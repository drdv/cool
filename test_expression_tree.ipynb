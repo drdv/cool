{
 "cells": [
  {
   "cell_type": "code",
   "execution_count": null,
   "metadata": {},
   "outputs": [],
   "source": [
    "import utils\n",
    "import importlib\n",
    "\n",
    "from automaton import State, Automaton\n",
    "\n",
    "importlib.reload(utils)"
   ]
  },
  {
   "cell_type": "code",
   "execution_count": null,
   "metadata": {},
   "outputs": [],
   "source": [
    "infix = '(a+b)*(a+c)+a+b*c'\n",
    "postfix = utils.infix2postfix(infix)\n",
    "root = utils.postfix2tree(postfix)\n",
    "print(root.get_postfix())\n",
    "\n",
    "root.show_dot()"
   ]
  },
  {
   "cell_type": "code",
   "execution_count": null,
   "metadata": {},
   "outputs": [],
   "source": [
    "def token_type(character):\n",
    "    if character in ['.', '|']: return 'binary'\n",
    "    elif character == '*': return 'unary'\n",
    "    return False\n",
    "\n",
    "infix = '(a|b)*abb'\n",
    "infix = utils.add_explicit_concatenation(infix)\n",
    "postfix = utils.infix2postfix(infix, \n",
    "                              priority={'*': 2, '.': 1, '|': 0})\n",
    "root = utils.postfix2tree(postfix, token_type)\n",
    "print(infix)\n",
    "print(postfix)\n",
    "print(root.get_postfix())\n",
    "\n",
    "root.show_dot()"
   ]
  },
  {
   "cell_type": "code",
   "execution_count": null,
   "metadata": {},
   "outputs": [],
   "source": [
    "_STATE_REGISTER = []\n",
    "\n",
    "def create_expression(letter):\n",
    "    \"\"\"NFA of a new expression.\"\"\"\n",
    "    initial_state = State('s{}'.format(len(_STATE_REGISTER)))\n",
    "    _STATE_REGISTER.append(initial_state)\n",
    "\n",
    "    out_state = State('s{}'.format(len(_STATE_REGISTER)))\n",
    "    _STATE_REGISTER.append(out_state)\n",
    "\n",
    "    initial_state.add_transition(letter, out_state)\n",
    "    \n",
    "    return {'initial_state': initial_state, \n",
    "            'out_state': out_state}\n",
    "\n",
    "def expression_union(expr1, expr2):\n",
    "    \"\"\"NFA of the union of two expressions.\"\"\"\n",
    "    initial_state = State('s{}'.format(len(_STATE_REGISTER)))\n",
    "    _STATE_REGISTER.append(initial_state)\n",
    "\n",
    "    out_state = State('s{}'.format(len(_STATE_REGISTER)))\n",
    "    _STATE_REGISTER.append(out_state)\n",
    "    \n",
    "    initial_state.add_transition('$', [expr1['initial_state'], \n",
    "                                       expr2['initial_state']])\n",
    "\n",
    "    expr1['out_state'].add_transition('$', out_state)\n",
    "    expr2['out_state'].add_transition('$', out_state)\n",
    "\n",
    "    return {'initial_state': initial_state, \n",
    "            'out_state': out_state} \n",
    "    \n",
    "def expression_star(expr1):\n",
    "    \"\"\"NFA of the star of an expression.\"\"\"\n",
    "    initial_state = State('s{}'.format(len(_STATE_REGISTER)))\n",
    "    _STATE_REGISTER.append(initial_state)\n",
    "\n",
    "    out_state = State('s{}'.format(len(_STATE_REGISTER)))\n",
    "    _STATE_REGISTER.append(out_state)\n",
    "    \n",
    "    initial_state.add_transition('$', [expr1['initial_state'], \n",
    "                                       out_state])\n",
    "\n",
    "    expr1['out_state'].add_transition('$', [expr1['initial_state'], \n",
    "                                            out_state])\n",
    "\n",
    "    return {'initial_state': initial_state, \n",
    "            'out_state': out_state} \n",
    "    \n",
    "def expression_concat(expr1, letter):\n",
    "    \"\"\"NFA of the concatenation expr1 and the givel letter.\n",
    "    \n",
    "    This is more convenient that using create_expression(letter)\n",
    "    to create an expression corresponding to the letter\n",
    "    \"\"\"    \n",
    "    out_state = State('s{}'.format(len(_STATE_REGISTER)))\n",
    "    _STATE_REGISTER.append(out_state)\n",
    "    \n",
    "    expr1['out_state'].add_transition(letter, out_state)\n",
    "    \n",
    "    return {'initial_state': expr1['initial_state'], \n",
    "            'out_state': out_state} \n",
    "    \n",
    "expr1 = create_expression('a')\n",
    "expr2 = create_expression('b')\n",
    "expr3 = expression_union(expr1, expr2)\n",
    "expr4 = expression_star(expr3)\n",
    "expr5 = expression_concat(expr4, 'a')\n",
    "expr6 = expression_concat(expr5, 'b')\n",
    "expr7 = expression_concat(expr6, 'b')\n",
    "\n",
    "M = Automaton('M', _STATE_REGISTER, ['a', 'b'], expr7['initial_state'], expr7['out_state'])"
   ]
  },
  {
   "cell_type": "code",
   "execution_count": null,
   "metadata": {},
   "outputs": [],
   "source": [
    "M.show_dot()"
   ]
  }
 ],
 "metadata": {
  "kernelspec": {
   "display_name": "Python 3",
   "language": "python",
   "name": "python3"
  },
  "language_info": {
   "codemirror_mode": {
    "name": "ipython",
    "version": 3
   },
   "file_extension": ".py",
   "mimetype": "text/x-python",
   "name": "python",
   "nbconvert_exporter": "python",
   "pygments_lexer": "ipython3",
   "version": "3.7.3"
  }
 },
 "nbformat": 4,
 "nbformat_minor": 2
}
