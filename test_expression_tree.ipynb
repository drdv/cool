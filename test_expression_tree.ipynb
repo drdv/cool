{
 "cells": [
  {
   "cell_type": "code",
   "execution_count": null,
   "metadata": {},
   "outputs": [],
   "source": [
    "import importlib\n",
    "\n",
    "import utils\n",
    "\n",
    "from automaton import State, Automaton, ThompsonConstruction\n",
    "\n",
    "from expression_tree import expr\n",
    "\n",
    "importlib.reload(utils)"
   ]
  },
  {
   "cell_type": "code",
   "execution_count": null,
   "metadata": {},
   "outputs": [],
   "source": [
    "infix = '(a+b)*(a+c)+a+b*c'\n",
    "postfix = utils.infix2postfix(infix)\n",
    "root = utils.postfix2tree(postfix)\n",
    "print(root.get_postfix())\n",
    "\n",
    "root.show_dot()"
   ]
  },
  {
   "cell_type": "code",
   "execution_count": null,
   "metadata": {},
   "outputs": [],
   "source": [
    "def token_type(character):\n",
    "    if character in ['.', '+']: return 'binary'\n",
    "    elif character == '*': return 'unary'\n",
    "    return False\n",
    "\n",
    "infix = '(a + b)*abb'\n",
    "infix = utils.add_explicit_concatenation(infix)\n",
    "postfix = utils.infix2postfix(infix, \n",
    "                              priority={'*': 2, '.': 1, '+': 0})\n",
    "root = utils.postfix2tree(postfix, token_type)\n",
    "print(infix, '->', postfix)\n",
    "assert root.get_postfix() == postfix\n",
    "\n",
    "root.show_dot()"
   ]
  },
  {
   "cell_type": "code",
   "execution_count": null,
   "metadata": {},
   "outputs": [],
   "source": [
    "thompson = ThompsonConstruction()\n",
    "\n",
    "expr1 = thompson.expr_union(thompson.create_expr('a'), \n",
    "                            thompson.create_expr('b'))\n",
    "expr2 = thompson.expr_star(expr1)\n",
    "expr3 = thompson.expr_concat(expr2, thompson.create_expr('a'))\n",
    "expr4 = thompson.expr_concat(expr3, thompson.create_expr('b'))\n",
    "expr5 = thompson.expr_concat(expr4, thompson.create_expr('b'))\n",
    "\n",
    "M = Automaton('M', thompson.state_register.registered_states, \n",
    "              ['a', 'b'], \n",
    "              expr5['initial_state'], \n",
    "              expr5['out_state'])"
   ]
  },
  {
   "cell_type": "code",
   "execution_count": null,
   "metadata": {},
   "outputs": [],
   "source": [
    "M.show_dot()"
   ]
  },
  {
   "cell_type": "code",
   "execution_count": null,
   "metadata": {},
   "outputs": [],
   "source": [
    "a, b, c, d = map(expr, list('abcd'))\n",
    "\n",
    "e = (a+b).star()*(c+d.star()).star() + expr('z') * expr('f+g')\n",
    "#e = expr('a*3') #FIXME:  to handle digits as well\n",
    "e.show()"
   ]
  }
 ],
 "metadata": {
  "kernelspec": {
   "display_name": "Python 3",
   "language": "python",
   "name": "python3"
  },
  "language_info": {
   "codemirror_mode": {
    "name": "ipython",
    "version": 3
   },
   "file_extension": ".py",
   "mimetype": "text/x-python",
   "name": "python",
   "nbconvert_exporter": "python",
   "pygments_lexer": "ipython3",
   "version": "3.7.3"
  }
 },
 "nbformat": 4,
 "nbformat_minor": 2
}
