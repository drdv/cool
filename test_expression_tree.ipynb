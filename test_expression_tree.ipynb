{
 "cells": [
  {
   "cell_type": "code",
   "execution_count": null,
   "metadata": {},
   "outputs": [],
   "source": [
    "import utils\n",
    "import importlib\n",
    "importlib.reload(utils)"
   ]
  },
  {
   "cell_type": "code",
   "execution_count": null,
   "metadata": {},
   "outputs": [],
   "source": [
    "infix = '(a+b)*(a+c)+a+b*c'\n",
    "postfix = utils.infix2postfix(infix)\n",
    "root = utils.postfix2tree(postfix)\n",
    "print(root.get_postfix())\n",
    "\n",
    "root.show_dot()"
   ]
  },
  {
   "cell_type": "code",
   "execution_count": null,
   "metadata": {},
   "outputs": [],
   "source": [
    "def token_type(character):\n",
    "    if character in ['.', '|']: return 'binary'\n",
    "    elif character == '*': return 'unary'\n",
    "    return False\n",
    "\n",
    "infix = '(a|b)*abb'\n",
    "infix = utils.add_explicit_concatenation(infix)\n",
    "postfix = utils.infix2postfix(infix, \n",
    "                              priority={'*': 2, '.': 1, '|': 0})\n",
    "root = utils.postfix2tree(postfix, token_type)\n",
    "print(infix)\n",
    "print(postfix)\n",
    "print(root.get_postfix())\n",
    "\n",
    "root.show_dot()"
   ]
  }
 ],
 "metadata": {
  "kernelspec": {
   "display_name": "Python 3",
   "language": "python",
   "name": "python3"
  },
  "language_info": {
   "codemirror_mode": {
    "name": "ipython",
    "version": 3
   },
   "file_extension": ".py",
   "mimetype": "text/x-python",
   "name": "python",
   "nbconvert_exporter": "python",
   "pygments_lexer": "ipython3",
   "version": "3.7.3"
  }
 },
 "nbformat": 4,
 "nbformat_minor": 2
}
